{
 "cells": [
  {
   "cell_type": "markdown",
   "metadata": {
    "id": "-JQUWtf9aqoR"
   },
   "source": [
    "<a href=\"https://colab.research.google.com/github/Bits-Deep-Analytics/Predictive_analytics/blob/dev/Scripts/PCA_R.ipynb\" target=\"_parent\"><img src=\"https://colab.research.google.com/assets/colab-badge.svg\" alt=\"Open this notebook in Colaboratory\"/></a>"
   ]
  },
  {
   "cell_type": "code",
   "execution_count": 71,
   "metadata": {
    "id": "bt9KJ3jSQBtm"
   },
   "outputs": [],
   "source": [
    "rsnd1 = rnorm(mean = 0, sd = 1, n = 1000)\n",
    "rsnd2 = rnorm(mean = 0, sd = 0.001, n = 1000)\n",
    "#print(rsnd1)\n",
    "plot(rsnd2)"
   ]
  },
  {
   "cell_type": "code",
   "execution_count": null,
   "metadata": {
    "id": "149kzYpzQBn9"
   },
   "outputs": [],
   "source": [
    "plot(faithful)"
   ]
  },
  {
   "cell_type": "code",
   "execution_count": null,
   "metadata": {
    "id": "QZ4_bSB_QBhF"
   },
   "outputs": [],
   "source": [
    "cm <- cor(iris[,1:4], method = \"pearson\")\n",
    "print(cm) \n",
    "E = eigen(cm)"
   ]
  },
  {
   "cell_type": "code",
   "execution_count": 33,
   "metadata": {
    "id": "k2QEG-mV1y6K"
   },
   "outputs": [],
   "source": [
    "houses = read.csv(file = 'https://raw.githubusercontent.com/Bits-Deep-Analytics/Predictive_analytics/dev/Data/Houses/cadata.csv', sep = ',', header = TRUE)"
   ]
  },
  {
   "cell_type": "code",
   "execution_count": 34,
   "metadata": {
    "colab": {
     "base_uri": "https://localhost:8080/",
     "height": 34
    },
    "id": "jnEAXeCH2qQ4",
    "outputId": "e87f4436-3a6c-45e7-edf5-3ecd66c65eb6"
   },
   "outputs": [
    {
     "data": {
      "text/html": [
       "<style>\n",
       ".list-inline {list-style: none; margin:0; padding: 0}\n",
       ".list-inline>li {display: inline-block}\n",
       ".list-inline>li:not(:last-child)::after {content: \"\\00b7\"; padding: 0 .5ex}\n",
       "</style>\n",
       "<ol class=list-inline><li>'MHV'</li><li>'MINC'</li><li>'HAGE'</li><li>'ROOMS'</li><li>'BEDRM'</li><li>'POPN'</li><li>'HHLDS'</li><li>'LAT'</li><li>'LONG'</li></ol>\n"
      ],
      "text/latex": [
       "\\begin{enumerate*}\n",
       "\\item 'MHV'\n",
       "\\item 'MINC'\n",
       "\\item 'HAGE'\n",
       "\\item 'ROOMS'\n",
       "\\item 'BEDRM'\n",
       "\\item 'POPN'\n",
       "\\item 'HHLDS'\n",
       "\\item 'LAT'\n",
       "\\item 'LONG'\n",
       "\\end{enumerate*}\n"
      ],
      "text/markdown": [
       "1. 'MHV'\n",
       "2. 'MINC'\n",
       "3. 'HAGE'\n",
       "4. 'ROOMS'\n",
       "5. 'BEDRM'\n",
       "6. 'POPN'\n",
       "7. 'HHLDS'\n",
       "8. 'LAT'\n",
       "9. 'LONG'\n",
       "\n",
       "\n"
      ],
      "text/plain": [
       "[1] \"MHV\"   \"MINC\"  \"HAGE\"  \"ROOMS\" \"BEDRM\" \"POPN\"  \"HHLDS\" \"LAT\"   \"LONG\" "
      ]
     },
     "metadata": {},
     "output_type": "display_data"
    }
   ],
   "source": [
    "colnames(houses)"
   ]
  },
  {
   "cell_type": "code",
   "execution_count": 35,
   "metadata": {
    "id": "dNcA0DRB29E0"
   },
   "outputs": [],
   "source": [
    "names(houses) <- c(\"MVAL\", \"MINC\", \"HAGE\", \"ROOMS\", \"BEDRMS\", \"POPN\" , \"HHLDS\", \"LAT\", \"LONG\")\n",
    "houses$MVAL_Z <- (houses$MVAL - mean(houses$MVAL))/(sd(houses$MVAL))\n",
    "houses$MINC_Z <- (houses$MINC - mean(houses$MINC))/(sd(houses$MINC))"
   ]
  },
  {
   "cell_type": "code",
   "execution_count": null,
   "metadata": {
    "id": "SNyoaVws2-Ut"
   },
   "outputs": [],
   "source": [
    "dim(houses)\n",
    "colnames(houses)"
   ]
  },
  {
   "cell_type": "code",
   "execution_count": 37,
   "metadata": {
    "id": "Cfk1VUW82-A7"
   },
   "outputs": [],
   "source": [
    "#install.packages('psych')\n",
    "library(psych)\n",
    "pca1 <- principal(houses[,c(11:18)], nfactors=8, rotate=\"none\", scores=TRUE)"
   ]
  },
  {
   "cell_type": "code",
   "execution_count": null,
   "metadata": {
    "id": "Ya_qkNpo27Pt"
   },
   "outputs": [],
   "source": [
    "pca1$values\n",
    "pca1$loadings"
   ]
  },
  {
   "cell_type": "code",
   "execution_count": null,
   "metadata": {
    "id": "Pj1ddW6Q6F8k"
   },
   "outputs": [],
   "source": [
    "plot(pca1$values, type = \"b\", main = \"Scree Plot for Houses Data\")"
   ]
  },
  {
   "cell_type": "code",
   "execution_count": null,
   "metadata": {
    "id": "1o56h66L6KrR"
   },
   "outputs": [],
   "source": [
    "pairs(~houses$MINC+houses$HAGE+pca1$scores[,3], labels = c(\"Median Income\", \"Housing Median Age\", \"Component 3 Scores\"))"
   ]
  },
  {
   "cell_type": "code",
   "execution_count": null,
   "metadata": {
    "id": "4dlyssSl6ebu"
   },
   "outputs": [],
   "source": [
    "pairs(~houses$MINC + houses$HAGE + pca1$scores[,4], labels = c(\"Median Income\", \"Housing Median Age\", \"Component 4 Scores\"))"
   ]
  },
  {
   "cell_type": "code",
   "execution_count": null,
   "metadata": {
    "id": "SCY8Jc5g68zM"
   },
   "outputs": [],
   "source": [
    "pca2 <- principal(houses[,c(11:18)], nfactors=4, rotate=\"none\", scores = TRUE)\n",
    "pca2$scores"
   ]
  }
 ],
 "metadata": {
  "colab": {
   "provenance": []
  },
  "kernelspec": {
   "display_name": "R",
   "name": "ir"
  },
  "language_info": {
   "name": "R"
  }
 },
 "nbformat": 4,
 "nbformat_minor": 1
}
