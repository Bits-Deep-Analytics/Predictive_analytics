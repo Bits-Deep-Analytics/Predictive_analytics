{
  "nbformat": 4,
  "nbformat_minor": 0,
  "metadata": {
    "colab": {
      "provenance": []
    },
    "kernelspec": {
      "name": "ir",
      "display_name": "R"
    },
    "language_info": {
      "name": "R"
    }
  },
  "cells": [
    {
      "cell_type": "markdown",
      "source": [
        "<a href=\"https://colab.research.google.com/github/deep-bits/PA/blob/main/PCA_R.ipynb\" target=\"_parent\"><img src=\"https://colab.research.google.com/assets/colab-badge.svg\" alt=\"Open In Colab\"/></a>"
      ],
      "metadata": {
        "id": "-JQUWtf9aqoR"
      }
    },
    {
      "cell_type": "code",
      "source": [
        "rsnd1 = rnorm(mean = 0, sd = 1, n = 1000)\n",
        "rsnd2 = rnorm(mean = 0, sd = 0.001, n = 1000)\n",
        "#print(rsnd1)\n",
        "plot(rsnd2)"
      ],
      "metadata": {
        "id": "bt9KJ3jSQBtm"
      },
      "execution_count": 71,
      "outputs": []
    },
    {
      "cell_type": "code",
      "source": [
        "plot(faithful)"
      ],
      "metadata": {
        "id": "149kzYpzQBn9"
      },
      "execution_count": null,
      "outputs": []
    },
    {
      "cell_type": "code",
      "source": [
        "cm <- cor(iris[,1:4], method = \"pearson\")\n",
        "print(cm) \n",
        "E = eigen(cm)"
      ],
      "metadata": {
        "id": "QZ4_bSB_QBhF"
      },
      "execution_count": null,
      "outputs": []
    },
    {
      "cell_type": "code",
      "execution_count": 33,
      "metadata": {
        "id": "k2QEG-mV1y6K"
      },
      "outputs": [],
      "source": [
        "houses = read.csv(file = 'https://raw.githubusercontent.com/Bits-Deep-Analytics/Predictive_analytics/dev/Data/Houses/cadata.csv', sep = ',', header = TRUE)"
      ]
    },
    {
      "cell_type": "code",
      "source": [
        "colnames(houses)"
      ],
      "metadata": {
        "colab": {
          "base_uri": "https://localhost:8080/",
          "height": 34
        },
        "id": "jnEAXeCH2qQ4",
        "outputId": "e87f4436-3a6c-45e7-edf5-3ecd66c65eb6"
      },
      "execution_count": 34,
      "outputs": [
        {
          "output_type": "display_data",
          "data": {
            "text/html": [
              "<style>\n",
              ".list-inline {list-style: none; margin:0; padding: 0}\n",
              ".list-inline>li {display: inline-block}\n",
              ".list-inline>li:not(:last-child)::after {content: \"\\00b7\"; padding: 0 .5ex}\n",
              "</style>\n",
              "<ol class=list-inline><li>'MHV'</li><li>'MINC'</li><li>'HAGE'</li><li>'ROOMS'</li><li>'BEDRM'</li><li>'POPN'</li><li>'HHLDS'</li><li>'LAT'</li><li>'LONG'</li></ol>\n"
            ],
            "text/markdown": "1. 'MHV'\n2. 'MINC'\n3. 'HAGE'\n4. 'ROOMS'\n5. 'BEDRM'\n6. 'POPN'\n7. 'HHLDS'\n8. 'LAT'\n9. 'LONG'\n\n\n",
            "text/latex": "\\begin{enumerate*}\n\\item 'MHV'\n\\item 'MINC'\n\\item 'HAGE'\n\\item 'ROOMS'\n\\item 'BEDRM'\n\\item 'POPN'\n\\item 'HHLDS'\n\\item 'LAT'\n\\item 'LONG'\n\\end{enumerate*}\n",
            "text/plain": [
              "[1] \"MHV\"   \"MINC\"  \"HAGE\"  \"ROOMS\" \"BEDRM\" \"POPN\"  \"HHLDS\" \"LAT\"   \"LONG\" "
            ]
          },
          "metadata": {}
        }
      ]
    },
    {
      "cell_type": "code",
      "source": [
        "names(houses) <- c(\"MVAL\", \"MINC\", \"HAGE\", \"ROOMS\", \"BEDRMS\", \"POPN\" , \"HHLDS\", \"LAT\", \"LONG\")\n",
        "houses$MVAL_Z <- (houses$MVAL - mean(houses$MVAL))/(sd(houses$MVAL))\n",
        "houses$MINC_Z <- (houses$MINC - mean(houses$MINC))/(sd(houses$MINC))"
      ],
      "metadata": {
        "id": "dNcA0DRB29E0"
      },
      "execution_count": 35,
      "outputs": []
    },
    {
      "cell_type": "code",
      "source": [
        "dim(houses)\n",
        "colnames(houses)"
      ],
      "metadata": {
        "id": "SNyoaVws2-Ut"
      },
      "execution_count": null,
      "outputs": []
    },
    {
      "cell_type": "code",
      "source": [
        "#install.packages('psych')\n",
        "library(psych)\n",
        "pca1 <- principal(houses[,c(11:18)], nfactors=8, rotate=\"none\", scores=TRUE)"
      ],
      "metadata": {
        "id": "Cfk1VUW82-A7"
      },
      "execution_count": 37,
      "outputs": []
    },
    {
      "cell_type": "code",
      "source": [
        "pca1$values\n",
        "pca1$loadings"
      ],
      "metadata": {
        "id": "Ya_qkNpo27Pt"
      },
      "execution_count": null,
      "outputs": []
    },
    {
      "cell_type": "code",
      "source": [
        "plot(pca1$values, type = \"b\", main = \"Scree Plot for Houses Data\")"
      ],
      "metadata": {
        "id": "Pj1ddW6Q6F8k"
      },
      "execution_count": null,
      "outputs": []
    },
    {
      "cell_type": "code",
      "source": [
        "pairs(~houses$MINC+houses$HAGE+pca1$scores[,3], labels = c(\"Median Income\", \"Housing Median Age\", \"Component 3 Scores\"))"
      ],
      "metadata": {
        "id": "1o56h66L6KrR"
      },
      "execution_count": null,
      "outputs": []
    },
    {
      "cell_type": "code",
      "source": [
        "pairs(~houses$MINC + houses$HAGE + pca1$scores[,4], labels = c(\"Median Income\", \"Housing Median Age\", \"Component 4 Scores\"))"
      ],
      "metadata": {
        "id": "4dlyssSl6ebu"
      },
      "execution_count": null,
      "outputs": []
    },
    {
      "cell_type": "code",
      "source": [
        "pca2 <- principal(houses[,c(11:18)], nfactors=4, rotate=\"none\", scores = TRUE)\n",
        "pca2$scores"
      ],
      "metadata": {
        "id": "SCY8Jc5g68zM"
      },
      "execution_count": null,
      "outputs": []
    }
  ]
}