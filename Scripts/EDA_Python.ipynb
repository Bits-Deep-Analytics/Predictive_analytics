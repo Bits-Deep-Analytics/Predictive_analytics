{
  "nbformat": 4,
  "nbformat_minor": 0,
  "metadata": {
    "colab": {
      "provenance": []
    },
    "kernelspec": {
      "name": "python3",
      "display_name": "Python 3"
    },
    "language_info": {
      "name": "python"
    },
    "gpuClass": "standard"
  },
  "cells": [
    {
      "cell_type": "markdown",
      "source": [
        "# Read and Merge"
      ],
      "metadata": {
        "id": "TVS-EMg3SqWB"
      }
    },
    {
      "cell_type": "code",
      "execution_count": null,
      "metadata": {
        "id": "s23dcg7oD0EX"
      },
      "outputs": [],
      "source": [
        "import pandas as pd\n",
        "test = pd.read_csv('https://raw.githubusercontent.com/deep-bits/PA/main/EDA/churn-bigml-20.csv')\n",
        "train = pd.read_csv('https://raw.githubusercontent.com/deep-bits/PA/main/EDA/churn-bigml-80.csv')\n",
        "data = pd.concat([test,train])\n",
        "print(data.shape)"
      ]
    },
    {
      "cell_type": "code",
      "source": [
        "ct_ci_ch = pd.crosstab(data['International plan'],data['Churn'])\n",
        "ct_ci_ip = pd.crosstab(data['Churn'],data['International plan'])\n",
        "display(ct_ci)\n",
        "ct_ci_m = pd.crosstab(data['Churn'], data['International plan'], margins = True)\n",
        "print(ct_ci_m)\n",
        "\n",
        "b = ct_ci_ch.plot(kind = 'bar', stacked = False)\n",
        "b = ct_ci_ip.plot(kind = 'bar', stacked = False)"
      ],
      "metadata": {
        "id": "BCEpNu-wSgbE"
      },
      "execution_count": null,
      "outputs": []
    },
    {
      "cell_type": "code",
      "source": [
        "ct_ci_nr = pd.crosstab(data['International plan'],data['Churn'], normalize = 'columns')\n",
        "ct_ci_nr = ct_ci_nr * 100\n",
        "print(ct_ci_nr.transpose(),\"\\n\")\n",
        "\n",
        "ct_ci_nc = pd.crosstab(data['Churn'], data['International plan'], normalize = 'columns')\n",
        "ct_ci_nc = ct_ci_nc * 100\n",
        "print(ct_ci_nc,\"\\n\")\n",
        "\n",
        "pie_nr = ct_ci_nr.plot(kind = 'pie', subplots = True, legend = False)\n",
        "pie_nc = ct_ci_nc.plot(kind = 'pie', subplots = True, legend = False)"
      ],
      "metadata": {
        "id": "zdCdRIxCSiY5"
      },
      "execution_count": null,
      "outputs": []
    },
    {
      "cell_type": "code",
      "source": [],
      "metadata": {
        "id": "soMQclO7SkO7"
      },
      "execution_count": null,
      "outputs": []
    }
  ]
}